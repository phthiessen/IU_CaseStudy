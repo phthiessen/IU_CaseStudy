{
 "cells": [
  {
   "cell_type": "code",
   "execution_count": 30,
   "id": "fbfe290f-7433-42cc-93f2-a09c01cf7a8e",
   "metadata": {
    "tags": []
   },
   "outputs": [],
   "source": [
    "import pandas as pd\n",
    "import matplotlib.pyplot as plt\n",
    "import seaborn as sns\n",
    "import numpy as np\n",
    "from sklearn.model_selection import train_test_split\n",
    "from sklearn.linear_model import LogisticRegression\n",
    "from sklearn.metrics import accuracy_score, precision_score, recall_score, f1_score, confusion_matrix, ConfusionMatrixDisplay\n",
    "from imblearn.over_sampling import SMOTE\n",
    "from sklearn.ensemble import RandomForestClassifier\n"
   ]
  },
  {
   "cell_type": "code",
   "execution_count": 31,
   "id": "a15d431a-8f16-455d-ba5c-4f81433470b9",
   "metadata": {
    "tags": []
   },
   "outputs": [
    {
     "data": {
      "text/html": [
       "<div>\n",
       "<style scoped>\n",
       "    .dataframe tbody tr th:only-of-type {\n",
       "        vertical-align: middle;\n",
       "    }\n",
       "\n",
       "    .dataframe tbody tr th {\n",
       "        vertical-align: top;\n",
       "    }\n",
       "\n",
       "    .dataframe thead th {\n",
       "        text-align: right;\n",
       "    }\n",
       "</style>\n",
       "<table border=\"1\" class=\"dataframe\">\n",
       "  <thead>\n",
       "    <tr style=\"text-align: right;\">\n",
       "      <th></th>\n",
       "      <th>amount</th>\n",
       "      <th>success</th>\n",
       "      <th>3D_secured</th>\n",
       "      <th>hour</th>\n",
       "      <th>day_of_week</th>\n",
       "      <th>month</th>\n",
       "      <th>amount_norm</th>\n",
       "      <th>card_Diners</th>\n",
       "      <th>card_Master</th>\n",
       "      <th>card_Visa</th>\n",
       "      <th>country_Austria</th>\n",
       "      <th>country_Germany</th>\n",
       "      <th>country_Switzerland</th>\n",
       "      <th>PSP_Goldcard</th>\n",
       "      <th>PSP_Moneycard</th>\n",
       "      <th>PSP_Simplecard</th>\n",
       "      <th>PSP_UK_Card</th>\n",
       "    </tr>\n",
       "  </thead>\n",
       "  <tbody>\n",
       "    <tr>\n",
       "      <th>0</th>\n",
       "      <td>89</td>\n",
       "      <td>0</td>\n",
       "      <td>0</td>\n",
       "      <td>0</td>\n",
       "      <td>1</td>\n",
       "      <td>1</td>\n",
       "      <td>0.133013</td>\n",
       "      <td>0</td>\n",
       "      <td>0</td>\n",
       "      <td>1</td>\n",
       "      <td>0</td>\n",
       "      <td>1</td>\n",
       "      <td>0</td>\n",
       "      <td>0</td>\n",
       "      <td>0</td>\n",
       "      <td>0</td>\n",
       "      <td>1</td>\n",
       "    </tr>\n",
       "    <tr>\n",
       "      <th>1</th>\n",
       "      <td>89</td>\n",
       "      <td>1</td>\n",
       "      <td>0</td>\n",
       "      <td>0</td>\n",
       "      <td>1</td>\n",
       "      <td>1</td>\n",
       "      <td>0.133013</td>\n",
       "      <td>0</td>\n",
       "      <td>0</td>\n",
       "      <td>1</td>\n",
       "      <td>0</td>\n",
       "      <td>1</td>\n",
       "      <td>0</td>\n",
       "      <td>0</td>\n",
       "      <td>0</td>\n",
       "      <td>0</td>\n",
       "      <td>1</td>\n",
       "    </tr>\n",
       "    <tr>\n",
       "      <th>2</th>\n",
       "      <td>238</td>\n",
       "      <td>0</td>\n",
       "      <td>1</td>\n",
       "      <td>0</td>\n",
       "      <td>1</td>\n",
       "      <td>1</td>\n",
       "      <td>0.371795</td>\n",
       "      <td>1</td>\n",
       "      <td>0</td>\n",
       "      <td>0</td>\n",
       "      <td>0</td>\n",
       "      <td>1</td>\n",
       "      <td>0</td>\n",
       "      <td>0</td>\n",
       "      <td>0</td>\n",
       "      <td>0</td>\n",
       "      <td>1</td>\n",
       "    </tr>\n",
       "    <tr>\n",
       "      <th>3</th>\n",
       "      <td>238</td>\n",
       "      <td>1</td>\n",
       "      <td>1</td>\n",
       "      <td>0</td>\n",
       "      <td>1</td>\n",
       "      <td>1</td>\n",
       "      <td>0.371795</td>\n",
       "      <td>1</td>\n",
       "      <td>0</td>\n",
       "      <td>0</td>\n",
       "      <td>0</td>\n",
       "      <td>1</td>\n",
       "      <td>0</td>\n",
       "      <td>0</td>\n",
       "      <td>0</td>\n",
       "      <td>0</td>\n",
       "      <td>1</td>\n",
       "    </tr>\n",
       "    <tr>\n",
       "      <th>4</th>\n",
       "      <td>124</td>\n",
       "      <td>0</td>\n",
       "      <td>0</td>\n",
       "      <td>0</td>\n",
       "      <td>1</td>\n",
       "      <td>1</td>\n",
       "      <td>0.189103</td>\n",
       "      <td>1</td>\n",
       "      <td>0</td>\n",
       "      <td>0</td>\n",
       "      <td>1</td>\n",
       "      <td>0</td>\n",
       "      <td>0</td>\n",
       "      <td>0</td>\n",
       "      <td>0</td>\n",
       "      <td>1</td>\n",
       "      <td>0</td>\n",
       "    </tr>\n",
       "  </tbody>\n",
       "</table>\n",
       "</div>"
      ],
      "text/plain": [
       "   amount  success  3D_secured  hour  day_of_week  month  amount_norm  \\\n",
       "0      89        0           0     0            1      1     0.133013   \n",
       "1      89        1           0     0            1      1     0.133013   \n",
       "2     238        0           1     0            1      1     0.371795   \n",
       "3     238        1           1     0            1      1     0.371795   \n",
       "4     124        0           0     0            1      1     0.189103   \n",
       "\n",
       "   card_Diners  card_Master  card_Visa  country_Austria  country_Germany  \\\n",
       "0            0            0          1                0                1   \n",
       "1            0            0          1                0                1   \n",
       "2            1            0          0                0                1   \n",
       "3            1            0          0                0                1   \n",
       "4            1            0          0                1                0   \n",
       "\n",
       "   country_Switzerland  PSP_Goldcard  PSP_Moneycard  PSP_Simplecard  \\\n",
       "0                    0             0              0               0   \n",
       "1                    0             0              0               0   \n",
       "2                    0             0              0               0   \n",
       "3                    0             0              0               0   \n",
       "4                    0             0              0               1   \n",
       "\n",
       "   PSP_UK_Card  \n",
       "0            1  \n",
       "1            1  \n",
       "2            1  \n",
       "3            1  \n",
       "4            0  "
      ]
     },
     "execution_count": 31,
     "metadata": {},
     "output_type": "execute_result"
    }
   ],
   "source": [
    "data = pd.read_excel(\"C:\\\\Users\\\\Phil\\\\CaseStudy\\\\PSP_DATA_PREP.xlsx\")\n",
    "data.head()"
   ]
  },
  {
   "cell_type": "code",
   "execution_count": 32,
   "id": "a673e853-1f11-46e4-b921-1d50b7cf5252",
   "metadata": {},
   "outputs": [],
   "source": [
    "# Define the feature matrix X and target y, and split data into training and testing sets\n",
    "X = data.drop(columns=['success'])\n",
    "y = data['success']\n",
    "X_train, X_test, y_train, y_test = train_test_split(X, y, test_size=0.2, random_state=42)"
   ]
  },
  {
   "cell_type": "code",
   "execution_count": 33,
   "id": "2e76d38f",
   "metadata": {},
   "outputs": [
    {
     "name": "stdout",
     "output_type": "stream",
     "text": [
      "Accuracy: 0.8111485816306289\n",
      "Precision: 0.6176470588235294\n",
      "Recall: 0.021875\n",
      "F1: 0.04225352112676056\n"
     ]
    },
    {
     "data": {
      "text/plain": [
       "<sklearn.metrics._plot.confusion_matrix.ConfusionMatrixDisplay at 0x1b9d5b4b510>"
      ]
     },
     "execution_count": 33,
     "metadata": {},
     "output_type": "execute_result"
    },
    {
     "data": {
      "image/png": "[encoded data removed]",
      "text/plain": [
       "<Figure size 640x480 with 2 Axes>"
      ]
     },
     "metadata": {},
     "output_type": "display_data"
    }
   ],
   "source": [
    "# Train a logistic regression model and make a prediction\n",
    "baseline_model = LogisticRegression(max_iter=1000)\n",
    "baseline_model.fit(X_train, y_train)\n",
    "y_pred = baseline_model.predict(X_test)\n",
    "\n",
    "# Evaluate the model \n",
    "accuracy_log = accuracy_score(y_test, y_pred)\n",
    "precision_log = precision_score(y_test, y_pred)\n",
    "recall_log = recall_score(y_test, y_pred)\n",
    "f1_log = f1_score(y_test, y_pred)\n",
    "print(f\"Accuracy: {accuracy_log}\\nPrecision: {precision_log}\\nRecall: {recall_log}\\nF1: {f1_log}\")\n",
    "\n",
    "# display the confusion matrix\n",
    "cm = confusion_matrix(y_test, y_pred)\n",
    "disp = ConfusionMatrixDisplay(cm)\n",
    "disp.plot(cmap='RdPu')"
   ]
  },
  {
   "cell_type": "code",
   "execution_count": 34,
   "id": "cbd46ee2",
   "metadata": {},
   "outputs": [],
   "source": [
    "# Create a class balanced data set with SMOTE to retrain models on\n",
    "smote = SMOTE(random_state=42)\n",
    "\n",
    "X_train_smote, y_train_smote = smote.fit_resample(X_train, y_train)\n",
    "X_test_smote, y_test_smote = smote.fit_resample(X_test, y_test)"
   ]
  },
  {
   "cell_type": "code",
   "execution_count": 35,
   "id": "654297cf",
   "metadata": {},
   "outputs": [
    {
     "name": "stdout",
     "output_type": "stream",
     "text": [
      "Accuracy: 0.8494854202401372\n",
      "Precision: 0.9865256694524988\n",
      "Recall: 0.7086498407253125\n",
      "F1: 0.824812834224599\n"
     ]
    },
    {
     "data": {
      "image/png": "[encoded data removed]",
      "text/plain": [
       "<Figure size 640x480 with 2 Axes>"
      ]
     },
     "metadata": {},
     "output_type": "display_data"
    }
   ],
   "source": [
    "# Train a new logistic regression model with SMOTE balanced classes\n",
    "smote_model = LogisticRegression(max_iter=1000)\n",
    "smote_model.fit(X_train_smote, y_train_smote)\n",
    "smote_y_pred = smote_model.predict(X_test_smote)\n",
    "\n",
    "# Evalute Accuracy\n",
    "accuracy_log_bal = accuracy_score(y_test_smote, smote_y_pred)\n",
    "precision_log_bal = precision_score(y_test_smote, smote_y_pred)\n",
    "recall_log_bal = recall_score(y_test_smote, smote_y_pred)\n",
    "f1_log_bal = f1_score(y_test_smote, smote_y_pred)\n",
    "\n",
    "print(f\"Accuracy: {accuracy_log_bal}\\nPrecision: {precision_log_bal}\\nRecall: {recall_log_bal}\\nF1: {f1_log_bal}\")\n",
    "\n",
    "# Display the confusion matrix\n",
    "smote_cm = confusion_matrix(y_test_smote, smote_y_pred)\n",
    "disp = ConfusionMatrixDisplay(smote_cm)\n",
    "disp.plot(cmap='RdPu')\n",
    "plt.show()"
   ]
  },
  {
   "cell_type": "code",
   "execution_count": 36,
   "id": "3b126983",
   "metadata": {},
   "outputs": [
    {
     "name": "stdout",
     "output_type": "stream",
     "text": [
      "Accuracy: 0.7668121404483238\n",
      "Precision: 0.23687423687423687\n",
      "Recall: 0.10104166666666667\n",
      "F1: 0.1416575392479007\n"
     ]
    },
    {
     "data": {
      "text/plain": [
       "<sklearn.metrics._plot.confusion_matrix.ConfusionMatrixDisplay at 0x1b9d5a9f190>"
      ]
     },
     "execution_count": 36,
     "metadata": {},
     "output_type": "execute_result"
    },
    {
     "data": {
      "image/png": "[encoded data removed]",
      "text/plain": [
       "<Figure size 640x480 with 2 Axes>"
      ]
     },
     "metadata": {},
     "output_type": "display_data"
    }
   ],
   "source": [
    "#Random forest model without SMOTE balanced classes\n",
    "rf_model = RandomForestClassifier(random_state=42)\n",
    "rf_model.fit(X_train, y_train)\n",
    "y_pred_rf_unbalanced = rf_model.predict(X_test)\n",
    "\n",
    "#assess accuracy\n",
    "accuracy_rf = accuracy_score(y_test, y_pred_rf_unbalanced)\n",
    "precision_rf = precision_score(y_test, y_pred_rf_unbalanced)\n",
    "recall_rf = recall_score(y_test, y_pred_rf_unbalanced)\n",
    "f1_rf = f1_score(y_test, y_pred_rf_unbalanced)\n",
    "\n",
    "print(f\"Accuracy: {accuracy_rf}\\nPrecision: {precision_rf}\\nRecall: {recall_rf}\\nF1: {f1_rf}\")\n",
    "\n",
    "#display the confusion matrix\n",
    "rf_cm_unbalanced = confusion_matrix(y_test, y_pred_rf_unbalanced)\n",
    "disp = ConfusionMatrixDisplay(rf_cm_unbalanced)\n",
    "disp.plot(cmap='RdPu')"
   ]
  },
  {
   "cell_type": "code",
   "execution_count": 37,
   "id": "fbbb72b5",
   "metadata": {},
   "outputs": [
    {
     "name": "stdout",
     "output_type": "stream",
     "text": [
      "Accuracy: 0.8233888752756677\n",
      "Precision: 0.8779894028354576\n",
      "Recall: 0.7511639304092135\n",
      "F1: 0.8096401452624629\n"
     ]
    },
    {
     "data": {
      "text/plain": [
       "<sklearn.metrics._plot.confusion_matrix.ConfusionMatrixDisplay at 0x1b9d59eabd0>"
      ]
     },
     "execution_count": 37,
     "metadata": {},
     "output_type": "execute_result"
    },
    {
     "data": {
      "image/png": "[encoded data removed]",
      "text/plain": [
       "<Figure size 640x480 with 2 Axes>"
      ]
     },
     "metadata": {},
     "output_type": "display_data"
    }
   ],
   "source": [
    "#Train Random forest Model with SMOTE balanced classes\n",
    "rf_model = RandomForestClassifier(random_state=42)\n",
    "rf_model.fit(X_train_smote, y_train_smote)\n",
    "y_pred_rf = rf_model.predict(X_test_smote)\n",
    "\n",
    "#Assess accuracy for randomforest model\n",
    "accuracy_rf_bal = accuracy_score(y_test_smote, y_pred_rf)\n",
    "precision_rf_bal = precision_score(y_test_smote, y_pred_rf)\n",
    "recall_rf_bal = recall_score(y_test_smote, y_pred_rf)\n",
    "f1_rf_bal = f1_score(y_test_smote, y_pred_rf)\n",
    "\n",
    "print(f\"Accuracy: {accuracy_rf_bal}\\nPrecision: {precision_rf_bal}\\nRecall: {recall_rf_bal}\\nF1: {f1_rf_bal}\")\n",
    "\n",
    "#display the confusion matrix\n",
    "rf_cm = confusion_matrix(y_test_smote, y_pred_rf)\n",
    "disp = ConfusionMatrixDisplay(rf_cm)\n",
    "disp.plot(cmap='RdPu')"
   ]
  },
  {
   "cell_type": "code",
   "execution_count": 41,
   "id": "6caaa807",
   "metadata": {},
   "outputs": [
    {
     "data": {
      "text/html": [
       "<div>\n",
       "<style scoped>\n",
       "    .dataframe tbody tr th:only-of-type {\n",
       "        vertical-align: middle;\n",
       "    }\n",
       "\n",
       "    .dataframe tbody tr th {\n",
       "        vertical-align: top;\n",
       "    }\n",
       "\n",
       "    .dataframe thead th {\n",
       "        text-align: right;\n",
       "    }\n",
       "</style>\n",
       "<table border=\"1\" class=\"dataframe\">\n",
       "  <thead>\n",
       "    <tr style=\"text-align: right;\">\n",
       "      <th></th>\n",
       "      <th>0</th>\n",
       "      <th>1</th>\n",
       "      <th>2</th>\n",
       "      <th>3</th>\n",
       "    </tr>\n",
       "  </thead>\n",
       "  <tbody>\n",
       "    <tr>\n",
       "      <th>Key</th>\n",
       "      <td>Accuracy</td>\n",
       "      <td>Precision</td>\n",
       "      <td>Recall</td>\n",
       "      <td>F1</td>\n",
       "    </tr>\n",
       "    <tr>\n",
       "      <th>Logistic</th>\n",
       "      <td>0.811149</td>\n",
       "      <td>0.617647</td>\n",
       "      <td>0.021875</td>\n",
       "      <td>0.042254</td>\n",
       "    </tr>\n",
       "    <tr>\n",
       "      <th>RandomForest</th>\n",
       "      <td>0.766812</td>\n",
       "      <td>0.236874</td>\n",
       "      <td>0.101042</td>\n",
       "      <td>0.141658</td>\n",
       "    </tr>\n",
       "    <tr>\n",
       "      <th>Logistic_Balanced</th>\n",
       "      <td>0.849485</td>\n",
       "      <td>0.986526</td>\n",
       "      <td>0.70865</td>\n",
       "      <td>0.824813</td>\n",
       "    </tr>\n",
       "    <tr>\n",
       "      <th>RandomForest_Balanced</th>\n",
       "      <td>0.823389</td>\n",
       "      <td>0.877989</td>\n",
       "      <td>0.70865</td>\n",
       "      <td>0.80964</td>\n",
       "    </tr>\n",
       "  </tbody>\n",
       "</table>\n",
       "</div>"
      ],
      "text/plain": [
       "                              0          1         2         3\n",
       "Key                    Accuracy  Precision    Recall        F1\n",
       "Logistic               0.811149   0.617647  0.021875  0.042254\n",
       "RandomForest           0.766812   0.236874  0.101042  0.141658\n",
       "Logistic_Balanced      0.849485   0.986526   0.70865  0.824813\n",
       "RandomForest_Balanced  0.823389   0.877989   0.70865   0.80964"
      ]
     },
     "execution_count": 41,
     "metadata": {},
     "output_type": "execute_result"
    }
   ],
   "source": [
    "results = pd.DataFrame()\n",
    "results['Key'] = ['Accuracy', 'Precision', 'Recall', 'F1']\n",
    "results['Logistic'] = [accuracy_log, precision_log, recall_log, f1_log]\n",
    "results['RandomForest'] = [accuracy_rf, precision_rf, recall_rf, f1_rf]\n",
    "results['Logistic_Balanced'] = [accuracy_log_bal, precision_log_bal, recall_log_bal, f1_log_bal]\n",
    "results['RandomForest_Balanced'] = [accuracy_rf_bal, precision_rf_bal, recall_log_bal, f1_rf_bal]\n",
    "results.T"
   ]
  },
  {
   "cell_type": "code",
   "execution_count": null,
   "id": "bff283e2",
   "metadata": {},
   "outputs": [],
   "source": []
  }
 ],
 "metadata": {
  "kernelspec": {
   "display_name": "Python 3 (ipykernel)",
   "language": "python",
   "name": "python3"
  },
  "language_info": {
   "codemirror_mode": {
    "name": "ipython",
    "version": 3
   },
   "file_extension": ".py",
   "mimetype": "text/x-python",
   "name": "python",
   "nbconvert_exporter": "python",
   "pygments_lexer": "ipython3",
   "version": "3.11.8"
  }
 },
 "nbformat": 4,
 "nbformat_minor": 5
}
